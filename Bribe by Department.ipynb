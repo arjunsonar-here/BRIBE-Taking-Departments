{
 "cells": [
  {
   "cell_type": "markdown",
   "metadata": {},
   "source": [
    "### Importing Required Libraries"
   ]
  },
  {
   "cell_type": "code",
   "execution_count": 1,
   "metadata": {},
   "outputs": [],
   "source": [
    "import pandas as pd\n",
    "import seaborn as sns\n",
    "import matplotlib\n",
    "import matplotlib.pyplot as plt\n",
    "%matplotlib inline\n",
    "\n",
    "sns.set_style('darkgrid')\n",
    "matplotlib.rcParams['font.size'] = 14\n",
    "matplotlib.rcParams['figure.figsize'] = (9, 5)\n",
    "matplotlib.rcParams['figure.facecolor'] = '#00000000'\n",
    "\n",
    "import warnings\n",
    "warnings.filterwarnings('ignore')"
   ]
  },
  {
   "cell_type": "markdown",
   "metadata": {},
   "source": [
    "### Loading Dataset "
   ]
  },
  {
   "cell_type": "code",
   "execution_count": 2,
   "metadata": {},
   "outputs": [],
   "source": [
    "df=pd.read_csv('C:\\\\Users\\\\Vijay\\\\Downloads\\\\Bribe data.csv',parse_dates=[\"Date\"])"
   ]
  },
  {
   "cell_type": "code",
   "execution_count": 3,
   "metadata": {},
   "outputs": [
    {
     "data": {
      "text/html": [
       "<div>\n",
       "<style scoped>\n",
       "    .dataframe tbody tr th:only-of-type {\n",
       "        vertical-align: middle;\n",
       "    }\n",
       "\n",
       "    .dataframe tbody tr th {\n",
       "        vertical-align: top;\n",
       "    }\n",
       "\n",
       "    .dataframe thead th {\n",
       "        text-align: right;\n",
       "    }\n",
       "</style>\n",
       "<table border=\"1\" class=\"dataframe\">\n",
       "  <thead>\n",
       "    <tr style=\"text-align: right;\">\n",
       "      <th></th>\n",
       "      <th>Title</th>\n",
       "      <th>Date</th>\n",
       "      <th>Location</th>\n",
       "      <th>Department</th>\n",
       "      <th>Views</th>\n",
       "      <th>Amount(INR)</th>\n",
       "    </tr>\n",
       "  </thead>\n",
       "  <tbody>\n",
       "    <tr>\n",
       "      <td>0</td>\n",
       "      <td>They said it is registration fee for birth cer...</td>\n",
       "      <td>2020-10-14</td>\n",
       "      <td>Bangalore,Karnataka</td>\n",
       "      <td>Births, Family and Care</td>\n",
       "      <td>1225</td>\n",
       "      <td>400</td>\n",
       "    </tr>\n",
       "    <tr>\n",
       "      <td>1</td>\n",
       "      <td>Paid bribe for not having insurance during pan...</td>\n",
       "      <td>2020-10-13</td>\n",
       "      <td>Bangalore,Karnataka</td>\n",
       "      <td>Vehicle Insurance</td>\n",
       "      <td>1158</td>\n",
       "      <td>350</td>\n",
       "    </tr>\n",
       "    <tr>\n",
       "      <td>2</td>\n",
       "      <td>Forced to pay bribe at KR Puram RTO</td>\n",
       "      <td>2020-10-13</td>\n",
       "      <td>Bangalore,Karnataka</td>\n",
       "      <td>Driving and Transport Business</td>\n",
       "      <td>1249</td>\n",
       "      <td>100</td>\n",
       "    </tr>\n",
       "    <tr>\n",
       "      <td>3</td>\n",
       "      <td>Forced to pay 100 rupees bribe for LL test</td>\n",
       "      <td>2020-10-13</td>\n",
       "      <td>Bangalore,Karnataka</td>\n",
       "      <td>Driving Licenses and Tests</td>\n",
       "      <td>1044</td>\n",
       "      <td>100</td>\n",
       "    </tr>\n",
       "    <tr>\n",
       "      <td>4</td>\n",
       "      <td>Misusing of power and traping people in false ...</td>\n",
       "      <td>2020-10-13</td>\n",
       "      <td>Siwan,Bihar</td>\n",
       "      <td>FIR and Complaints</td>\n",
       "      <td>1068</td>\n",
       "      <td>15000</td>\n",
       "    </tr>\n",
       "  </tbody>\n",
       "</table>\n",
       "</div>"
      ],
      "text/plain": [
       "                                               Title       Date  \\\n",
       "0  They said it is registration fee for birth cer... 2020-10-14   \n",
       "1  Paid bribe for not having insurance during pan... 2020-10-13   \n",
       "2                Forced to pay bribe at KR Puram RTO 2020-10-13   \n",
       "3         Forced to pay 100 rupees bribe for LL test 2020-10-13   \n",
       "4  Misusing of power and traping people in false ... 2020-10-13   \n",
       "\n",
       "              Location                      Department  Views  Amount(INR)  \n",
       "0  Bangalore,Karnataka         Births, Family and Care   1225          400  \n",
       "1  Bangalore,Karnataka               Vehicle Insurance   1158          350  \n",
       "2  Bangalore,Karnataka  Driving and Transport Business   1249          100  \n",
       "3  Bangalore,Karnataka      Driving Licenses and Tests   1044          100  \n",
       "4          Siwan,Bihar              FIR and Complaints   1068        15000  "
      ]
     },
     "execution_count": 3,
     "metadata": {},
     "output_type": "execute_result"
    }
   ],
   "source": [
    "df.head(5)"
   ]
  },
  {
   "cell_type": "markdown",
   "metadata": {},
   "source": [
    "### Performing EDA on the dataset"
   ]
  },
  {
   "cell_type": "code",
   "execution_count": 4,
   "metadata": {},
   "outputs": [
    {
     "name": "stdout",
     "output_type": "stream",
     "text": [
      "<class 'pandas.core.frame.DataFrame'>\n",
      "RangeIndex: 3473 entries, 0 to 3472\n",
      "Data columns (total 6 columns):\n",
      "Title          3473 non-null object\n",
      "Date           3473 non-null datetime64[ns]\n",
      "Location       3473 non-null object\n",
      "Department     3429 non-null object\n",
      "Views          3473 non-null int64\n",
      "Amount(INR)    3473 non-null int64\n",
      "dtypes: datetime64[ns](1), int64(2), object(3)\n",
      "memory usage: 162.9+ KB\n"
     ]
    }
   ],
   "source": [
    "df.info()"
   ]
  },
  {
   "cell_type": "code",
   "execution_count": 5,
   "metadata": {},
   "outputs": [
    {
     "name": "stdout",
     "output_type": "stream",
     "text": [
      "The dataset has  3473  rows and  6  columns.\n"
     ]
    }
   ],
   "source": [
    "r,c=df.shape\n",
    "print('The dataset has ',r,' rows and ',c,' columns.' )"
   ]
  },
  {
   "cell_type": "code",
   "execution_count": 6,
   "metadata": {},
   "outputs": [
    {
     "data": {
      "text/html": [
       "<div>\n",
       "<style scoped>\n",
       "    .dataframe tbody tr th:only-of-type {\n",
       "        vertical-align: middle;\n",
       "    }\n",
       "\n",
       "    .dataframe tbody tr th {\n",
       "        vertical-align: top;\n",
       "    }\n",
       "\n",
       "    .dataframe thead th {\n",
       "        text-align: right;\n",
       "    }\n",
       "</style>\n",
       "<table border=\"1\" class=\"dataframe\">\n",
       "  <thead>\n",
       "    <tr style=\"text-align: right;\">\n",
       "      <th></th>\n",
       "      <th>Views</th>\n",
       "      <th>Amount(INR)</th>\n",
       "    </tr>\n",
       "  </thead>\n",
       "  <tbody>\n",
       "    <tr>\n",
       "      <td>count</td>\n",
       "      <td>3473.000000</td>\n",
       "      <td>3.473000e+03</td>\n",
       "    </tr>\n",
       "    <tr>\n",
       "      <td>mean</td>\n",
       "      <td>3379.405701</td>\n",
       "      <td>3.331083e+04</td>\n",
       "    </tr>\n",
       "    <tr>\n",
       "      <td>std</td>\n",
       "      <td>1540.854884</td>\n",
       "      <td>1.508203e+05</td>\n",
       "    </tr>\n",
       "    <tr>\n",
       "      <td>min</td>\n",
       "      <td>463.000000</td>\n",
       "      <td>1.000000e+00</td>\n",
       "    </tr>\n",
       "    <tr>\n",
       "      <td>25%</td>\n",
       "      <td>2081.000000</td>\n",
       "      <td>3.300000e+02</td>\n",
       "    </tr>\n",
       "    <tr>\n",
       "      <td>50%</td>\n",
       "      <td>3272.000000</td>\n",
       "      <td>1.200000e+03</td>\n",
       "    </tr>\n",
       "    <tr>\n",
       "      <td>75%</td>\n",
       "      <td>4522.000000</td>\n",
       "      <td>8.000000e+03</td>\n",
       "    </tr>\n",
       "    <tr>\n",
       "      <td>max</td>\n",
       "      <td>20450.000000</td>\n",
       "      <td>2.185000e+06</td>\n",
       "    </tr>\n",
       "  </tbody>\n",
       "</table>\n",
       "</div>"
      ],
      "text/plain": [
       "              Views   Amount(INR)\n",
       "count   3473.000000  3.473000e+03\n",
       "mean    3379.405701  3.331083e+04\n",
       "std     1540.854884  1.508203e+05\n",
       "min      463.000000  1.000000e+00\n",
       "25%     2081.000000  3.300000e+02\n",
       "50%     3272.000000  1.200000e+03\n",
       "75%     4522.000000  8.000000e+03\n",
       "max    20450.000000  2.185000e+06"
      ]
     },
     "execution_count": 6,
     "metadata": {},
     "output_type": "execute_result"
    }
   ],
   "source": [
    "df.describe()"
   ]
  },
  {
   "cell_type": "code",
   "execution_count": 7,
   "metadata": {},
   "outputs": [
    {
     "data": {
      "text/html": [
       "<div>\n",
       "<style scoped>\n",
       "    .dataframe tbody tr th:only-of-type {\n",
       "        vertical-align: middle;\n",
       "    }\n",
       "\n",
       "    .dataframe tbody tr th {\n",
       "        vertical-align: top;\n",
       "    }\n",
       "\n",
       "    .dataframe thead th {\n",
       "        text-align: right;\n",
       "    }\n",
       "</style>\n",
       "<table border=\"1\" class=\"dataframe\">\n",
       "  <thead>\n",
       "    <tr style=\"text-align: right;\">\n",
       "      <th></th>\n",
       "      <th>Title</th>\n",
       "      <th>Location</th>\n",
       "      <th>Department</th>\n",
       "    </tr>\n",
       "  </thead>\n",
       "  <tbody>\n",
       "    <tr>\n",
       "      <td>count</td>\n",
       "      <td>3473</td>\n",
       "      <td>3473</td>\n",
       "      <td>3429</td>\n",
       "    </tr>\n",
       "    <tr>\n",
       "      <td>unique</td>\n",
       "      <td>3282</td>\n",
       "      <td>510</td>\n",
       "      <td>367</td>\n",
       "    </tr>\n",
       "    <tr>\n",
       "      <td>top</td>\n",
       "      <td>Passport verification</td>\n",
       "      <td>Bangalore,Karnataka</td>\n",
       "      <td>Others</td>\n",
       "    </tr>\n",
       "    <tr>\n",
       "      <td>freq</td>\n",
       "      <td>10</td>\n",
       "      <td>769</td>\n",
       "      <td>472</td>\n",
       "    </tr>\n",
       "  </tbody>\n",
       "</table>\n",
       "</div>"
      ],
      "text/plain": [
       "                        Title             Location Department\n",
       "count                    3473                 3473       3429\n",
       "unique                   3282                  510        367\n",
       "top     Passport verification  Bangalore,Karnataka     Others\n",
       "freq                       10                  769        472"
      ]
     },
     "execution_count": 7,
     "metadata": {},
     "output_type": "execute_result"
    }
   ],
   "source": [
    "# Inculding the object datatype aswell\n",
    "df.describe(include=object)"
   ]
  },
  {
   "cell_type": "code",
   "execution_count": 8,
   "metadata": {},
   "outputs": [
    {
     "data": {
      "text/plain": [
       "<matplotlib.axes._subplots.AxesSubplot at 0x1f410e21f88>"
      ]
     },
     "execution_count": 8,
     "metadata": {},
     "output_type": "execute_result"
    },
    {
     "data": {
      "image/png": "[encoded data removed]",
      "text/plain": [
       "<Figure size 900x500 with 2 Axes>"
      ]
     },
     "metadata": {
      "needs_background": "light"
     },
     "output_type": "display_data"
    }
   ],
   "source": [
    "## Using HeatMap for better Visualization \n",
    "sns.heatmap(df.isnull(), yticklabels=False)"
   ]
  },
  {
   "cell_type": "code",
   "execution_count": 9,
   "metadata": {},
   "outputs": [
    {
     "data": {
      "text/plain": [
       "Title           0\n",
       "Date            0\n",
       "Location        0\n",
       "Department     44\n",
       "Views           0\n",
       "Amount(INR)     0\n",
       "dtype: int64"
      ]
     },
     "execution_count": 9,
     "metadata": {},
     "output_type": "execute_result"
    }
   ],
   "source": [
    "df.isnull().sum()"
   ]
  },
  {
   "cell_type": "code",
   "execution_count": 10,
   "metadata": {},
   "outputs": [
    {
     "data": {
      "text/html": [
       "<div>\n",
       "<style scoped>\n",
       "    .dataframe tbody tr th:only-of-type {\n",
       "        vertical-align: middle;\n",
       "    }\n",
       "\n",
       "    .dataframe tbody tr th {\n",
       "        vertical-align: top;\n",
       "    }\n",
       "\n",
       "    .dataframe thead th {\n",
       "        text-align: right;\n",
       "    }\n",
       "</style>\n",
       "<table border=\"1\" class=\"dataframe\">\n",
       "  <thead>\n",
       "    <tr style=\"text-align: right;\">\n",
       "      <th></th>\n",
       "      <th>Title</th>\n",
       "      <th>Date</th>\n",
       "      <th>Location</th>\n",
       "      <th>Department</th>\n",
       "      <th>Views</th>\n",
       "      <th>Amount(INR)</th>\n",
       "    </tr>\n",
       "  </thead>\n",
       "  <tbody>\n",
       "    <tr>\n",
       "      <td>34</td>\n",
       "      <td>I paid 500rs bribe for passport police verific...</td>\n",
       "      <td>2020-02-10</td>\n",
       "      <td>NewDelhi,Delhi</td>\n",
       "      <td>NaN</td>\n",
       "      <td>1451</td>\n",
       "      <td>500</td>\n",
       "    </tr>\n",
       "    <tr>\n",
       "      <td>38</td>\n",
       "      <td>For clearing papers in survey for SRA</td>\n",
       "      <td>2020-09-25</td>\n",
       "      <td>Mumbai,Maharashtra</td>\n",
       "      <td>NaN</td>\n",
       "      <td>1760</td>\n",
       "      <td>500000</td>\n",
       "    </tr>\n",
       "    <tr>\n",
       "      <td>74</td>\n",
       "      <td>I paid 500rs bribe for passport police verific...</td>\n",
       "      <td>2020-02-10</td>\n",
       "      <td>NewDelhi,Delhi</td>\n",
       "      <td>NaN</td>\n",
       "      <td>1451</td>\n",
       "      <td>500</td>\n",
       "    </tr>\n",
       "    <tr>\n",
       "      <td>78</td>\n",
       "      <td>For clearing papers in survey for SRA</td>\n",
       "      <td>2020-09-25</td>\n",
       "      <td>Mumbai,Maharashtra</td>\n",
       "      <td>NaN</td>\n",
       "      <td>1760</td>\n",
       "      <td>500000</td>\n",
       "    </tr>\n",
       "    <tr>\n",
       "      <td>144</td>\n",
       "      <td>Bribe taken by pollution office of Raipur (CG)</td>\n",
       "      <td>2020-05-15</td>\n",
       "      <td>Raipur,Chhattisgarh</td>\n",
       "      <td>NaN</td>\n",
       "      <td>1565</td>\n",
       "      <td>200000</td>\n",
       "    </tr>\n",
       "  </tbody>\n",
       "</table>\n",
       "</div>"
      ],
      "text/plain": [
       "                                                 Title       Date  \\\n",
       "34   I paid 500rs bribe for passport police verific... 2020-02-10   \n",
       "38               For clearing papers in survey for SRA 2020-09-25   \n",
       "74   I paid 500rs bribe for passport police verific... 2020-02-10   \n",
       "78               For clearing papers in survey for SRA 2020-09-25   \n",
       "144     Bribe taken by pollution office of Raipur (CG) 2020-05-15   \n",
       "\n",
       "                Location Department  Views  Amount(INR)  \n",
       "34        NewDelhi,Delhi        NaN   1451          500  \n",
       "38    Mumbai,Maharashtra        NaN   1760       500000  \n",
       "74        NewDelhi,Delhi        NaN   1451          500  \n",
       "78    Mumbai,Maharashtra        NaN   1760       500000  \n",
       "144  Raipur,Chhattisgarh        NaN   1565       200000  "
      ]
     },
     "execution_count": 10,
     "metadata": {},
     "output_type": "execute_result"
    }
   ],
   "source": [
    "## Checking for null in \"Department\" Column \n",
    "df[df['Department'].isnull()].head()"
   ]
  },
  {
   "cell_type": "code",
   "execution_count": 11,
   "metadata": {},
   "outputs": [],
   "source": [
    "## Replacing the 'NaN' values with 'Others' \n",
    "df['Department'].fillna('Others',inplace=True)"
   ]
  },
  {
   "cell_type": "code",
   "execution_count": 12,
   "metadata": {},
   "outputs": [
    {
     "data": {
      "image/png": "[encoded data removed]",
      "text/plain": [
       "<Figure size 900x500 with 1 Axes>"
      ]
     },
     "metadata": {
      "needs_background": "light"
     },
     "output_type": "display_data"
    }
   ],
   "source": [
    "sns.histplot(df['Amount(INR)'],kde=True,bins=1000);"
   ]
  },
  {
   "cell_type": "code",
   "execution_count": 13,
   "metadata": {},
   "outputs": [],
   "source": [
    "# As we can see the above data is highly skewed."
   ]
  },
  {
   "cell_type": "markdown",
   "metadata": {},
   "source": [
    "###  Performing Data Cleaning and Column Split "
   ]
  },
  {
   "cell_type": "code",
   "execution_count": 14,
   "metadata": {},
   "outputs": [
    {
     "data": {
      "text/plain": [
       "45363.200000000084"
      ]
     },
     "execution_count": 14,
     "metadata": {},
     "output_type": "execute_result"
    }
   ],
   "source": [
    "## Checking for the revelant data and using them\n",
    "df['Amount(INR)'].quantile(0.9)"
   ]
  },
  {
   "cell_type": "code",
   "execution_count": 15,
   "metadata": {},
   "outputs": [],
   "source": [
    "df=df[df['Amount(INR)']<df['Amount(INR)'].quantile(0.90)]"
   ]
  },
  {
   "cell_type": "code",
   "execution_count": 16,
   "metadata": {},
   "outputs": [
    {
     "data": {
      "image/png": "[encoded data removed]",
      "text/plain": [
       "<Figure size 900x500 with 1 Axes>"
      ]
     },
     "metadata": {
      "needs_background": "light"
     },
     "output_type": "display_data"
    }
   ],
   "source": [
    "sns.histplot(df['Amount(INR)'],kde=True);"
   ]
  },
  {
   "cell_type": "code",
   "execution_count": 17,
   "metadata": {},
   "outputs": [
    {
     "data": {
      "text/plain": [
       "Title          0\n",
       "Date           0\n",
       "Location       0\n",
       "Department     0\n",
       "Views          0\n",
       "Amount(INR)    0\n",
       "dtype: int64"
      ]
     },
     "execution_count": 17,
     "metadata": {},
     "output_type": "execute_result"
    }
   ],
   "source": [
    "# By Visualization the above graph we can see the most of the data values have small amount of bribe. \n",
    "\n",
    "df.isnull().sum()"
   ]
  },
  {
   "cell_type": "code",
   "execution_count": 18,
   "metadata": {},
   "outputs": [
    {
     "data": {
      "text/html": [
       "<div>\n",
       "<style scoped>\n",
       "    .dataframe tbody tr th:only-of-type {\n",
       "        vertical-align: middle;\n",
       "    }\n",
       "\n",
       "    .dataframe tbody tr th {\n",
       "        vertical-align: top;\n",
       "    }\n",
       "\n",
       "    .dataframe thead th {\n",
       "        text-align: right;\n",
       "    }\n",
       "</style>\n",
       "<table border=\"1\" class=\"dataframe\">\n",
       "  <thead>\n",
       "    <tr style=\"text-align: right;\">\n",
       "      <th></th>\n",
       "      <th>Title</th>\n",
       "      <th>Date</th>\n",
       "      <th>Location</th>\n",
       "      <th>Department</th>\n",
       "      <th>Views</th>\n",
       "      <th>Amount(INR)</th>\n",
       "    </tr>\n",
       "  </thead>\n",
       "  <tbody>\n",
       "    <tr>\n",
       "      <td>3323</td>\n",
       "      <td>I Paid Rs. 100 to Income Tax in Bankura.</td>\n",
       "      <td>2015-07-11</td>\n",
       "      <td>Bankura,WestBengal</td>\n",
       "      <td>New PAN Card</td>\n",
       "      <td>3802</td>\n",
       "      <td>100</td>\n",
       "    </tr>\n",
       "    <tr>\n",
       "      <td>1901</td>\n",
       "      <td>I paid a bribe to VRO (Village Revenue Officer)</td>\n",
       "      <td>2017-08-07</td>\n",
       "      <td>Suryapet,Telangana</td>\n",
       "      <td>7/12 Extract</td>\n",
       "      <td>4699</td>\n",
       "      <td>36000</td>\n",
       "    </tr>\n",
       "    <tr>\n",
       "      <td>949</td>\n",
       "      <td>AR15handguard</td>\n",
       "      <td>2019-04-04</td>\n",
       "      <td>Adilabad,Telangana</td>\n",
       "      <td>Others</td>\n",
       "      <td>2575</td>\n",
       "      <td>2200</td>\n",
       "    </tr>\n",
       "    <tr>\n",
       "      <td>2380</td>\n",
       "      <td>Cost of reading a Marathi page in hindi</td>\n",
       "      <td>2016-11-11</td>\n",
       "      <td>Mumbai,Maharashtra</td>\n",
       "      <td>Change of Name in Records</td>\n",
       "      <td>4683</td>\n",
       "      <td>2000</td>\n",
       "    </tr>\n",
       "    <tr>\n",
       "      <td>344</td>\n",
       "      <td>Constable asked for bribe</td>\n",
       "      <td>2019-11-18</td>\n",
       "      <td>Ramagundam,Telangana</td>\n",
       "      <td>Policies and Procedures</td>\n",
       "      <td>668</td>\n",
       "      <td>1000</td>\n",
       "    </tr>\n",
       "  </tbody>\n",
       "</table>\n",
       "</div>"
      ],
      "text/plain": [
       "                                                Title       Date  \\\n",
       "3323         I Paid Rs. 100 to Income Tax in Bankura. 2015-07-11   \n",
       "1901  I paid a bribe to VRO (Village Revenue Officer) 2017-08-07   \n",
       "949                                     AR15handguard 2019-04-04   \n",
       "2380          Cost of reading a Marathi page in hindi 2016-11-11   \n",
       "344                         Constable asked for bribe 2019-11-18   \n",
       "\n",
       "                  Location                 Department  Views  Amount(INR)  \n",
       "3323    Bankura,WestBengal               New PAN Card   3802          100  \n",
       "1901    Suryapet,Telangana               7/12 Extract   4699        36000  \n",
       "949     Adilabad,Telangana                     Others   2575         2200  \n",
       "2380    Mumbai,Maharashtra  Change of Name in Records   4683         2000  \n",
       "344   Ramagundam,Telangana    Policies and Procedures    668         1000  "
      ]
     },
     "execution_count": 18,
     "metadata": {},
     "output_type": "execute_result"
    }
   ],
   "source": [
    "df.sample(5)"
   ]
  },
  {
   "cell_type": "code",
   "execution_count": 19,
   "metadata": {},
   "outputs": [
    {
     "data": {
      "text/plain": [
       "array(['Births, Family and Care', 'Vehicle Insurance',\n",
       "       'Driving and Transport Business', 'Driving Licenses and Tests',\n",
       "       'FIR and Complaints', 'Policies and Procedures', 'Others',\n",
       "       'Police Clearance Certificate', 'Registrations and Licenses',\n",
       "       'Building and Housing', 'Traffic Fines, Penalties, Rules',\n",
       "       'Excise', 'Property Registration', 'Loan Sanctioning',\n",
       "       'Court Related', 'Verification and Certificates', 'Drugs License',\n",
       "       'Visa', 'Khata', 'College Leaving Certificate', 'Tax and Permits',\n",
       "       'Autorickshaws', 'Certificates', 'Caste Certificate',\n",
       "       'Dates for Hearing', 'Aadhaar Card Process', 'Excess Baggage',\n",
       "       'Traffic Violations', 'Bill Payment', 'Water Connection',\n",
       "       'Passport Status and Delivery', 'Land Registration',\n",
       "       'Government Personnel', 'Government Schemes', 'Loans',\n",
       "       'Marriage Certificate and Registration', 'Police Harassment',\n",
       "       'Background Verification', 'Services',\n",
       "       'Change of Tariff in Domestic to Commercial',\n",
       "       'Traveling without Ticket', 'Disability Certificate',\n",
       "       'Pension Processing', 'Entry Tax',\n",
       "       'Number Plates and Vehicle Registration', 'False Allegations',\n",
       "       'Tax', 'Fire License', 'Notary', 'Issue and Renewal of Passport',\n",
       "       'Hospitals and Medical Care', 'Customs Check and Clearance',\n",
       "       'Savings Scheme', 'Customs', 'LPG Gas Cylinder', 'Aadhaar Card',\n",
       "       'Public Works', 'Domestic', 'Filing FIR',\n",
       "       'Money Order and Passbook', 'School or College Related',\n",
       "       'Professional Tax', 'Bills and Payment', 'Food License',\n",
       "       'License for Sale of Drugs', 'Ticket and Seat Related',\n",
       "       'Vehicle Fitness', 'Payment and Arrears',\n",
       "       'Building Construction Approval',\n",
       "       'Telephone and Internet Connection', 'Sales Tax',\n",
       "       'Electricity Connection', 'Police Verification for Passport',\n",
       "       'Duplicate Driving License', 'Pharmacy', 'Income Tax',\n",
       "       'Ration Card', 'Driving licence Process', 'Contract Work',\n",
       "       'Post and Parcel', 'Birth Certificate',\n",
       "       'Protected Forest and Sanctuaries', 'Employee Grievances',\n",
       "       'Service Tax', 'Encumbrance Certificate',\n",
       "       'Fines, Penalties and Rules', 'Transport of Luggage and Goods',\n",
       "       'PAN', 'Health Services', 'Caste, Community and Income',\n",
       "       'Timber Related', 'Commercial and Industrial', 'Transformers',\n",
       "       'Assessment', 'Employee State Insurance', 'Migration Certificate',\n",
       "       'Land Related', 'Health and Family', 'Domicile and Residence',\n",
       "       'Lodging Police Complaint', 'Importer Exporter Code',\n",
       "       'Money Order', 'Business Visa', 'VAT', 'Voter Registration',\n",
       "       'Registration of Property', 'Public Transport',\n",
       "       'Illegal Power Theft', 'Disability Related',\n",
       "       'Religious Institutions', 'Background or Personal Verification',\n",
       "       'Food and Supply', 'Learners License', 'Electric Meters',\n",
       "       'Registration of Flat or Apartment', 'Motor Vehicle Tax',\n",
       "       'Activities on Beat', 'Property Tax', 'Community Certificate',\n",
       "       'Admission to School', 'Khata Transfer',\n",
       "       'Transfer of Residence (TR)', 'IT Clearance Certificate',\n",
       "       'Registration of Partition Deed',\n",
       "       'Travelling in the wrong compartment', 'Ticket Booking',\n",
       "       'Renewal of Passport', 'Attestation', 'Pension Settlement',\n",
       "       'Vehicle Transport Booking', 'For Seeking Relevant Information',\n",
       "       'Registration of Vehicle', 'Passport Delivery',\n",
       "       'Original Marks Card', 'VAT Refund', 'Affidavit',\n",
       "       'Urban Land Ceiling Clearance Certificate', 'Berth Allocation',\n",
       "       'Retrieval of lost items', 'Character Certificate',\n",
       "       'Obtaining Transcripts', 'Change of Tariff',\n",
       "       'Police Investigation', 'Reconnection of Electricity',\n",
       "       '7/12 Extract', 'Registration of House',\n",
       "       'Change or Correction of Name in License',\n",
       "       'Registration of Sale Deed',\n",
       "       'Change of Name in Property documents', 'Marriage Certificate',\n",
       "       'Bribing of Government Officers', 'Demonetisation',\n",
       "       'Patta Document', 'Meter Reading and Checking', 'Crime Incident',\n",
       "       'School or College Related Activities', 'Change of Faulty Meter',\n",
       "       'Income Tax Refund', 'Land or Housing Site Allotment',\n",
       "       'Customs Clearance of Import Shipment', 'Family Certificate',\n",
       "       'Permission to sell Wood', 'Building Completion Certificate',\n",
       "       'Registration of Mortgage Deed', 'Medical Certificate',\n",
       "       'Speed Post', 'Recruitment', 'Restore Power Supply',\n",
       "       'General RTO related', 'Transfer of Property',\n",
       "       'Arrested by Police', 'Railway Police',\n",
       "       'NOC for Transfer of Vehicle Registration', 'Government Hospital',\n",
       "       'Admission to College', 'Garbage Collection', 'C Form',\n",
       "       'Seat Reservation', 'New Passport Application',\n",
       "       'Delivery of Letters and other Post', 'Extra Charges',\n",
       "       'Airport facilities', 'Marriage Registration',\n",
       "       'Transfer of Alloted Sites', 'Housing Plan Approval',\n",
       "       'Advocate or Legal Services', 'Registration of Land',\n",
       "       'Trade License', 'Immigration Check', 'Title Deed', 'House Tax',\n",
       "       'Passport Status Enquiry', 'New Domestic Driving License',\n",
       "       'Death certificate', 'Residence Certificate', 'Provident Fund',\n",
       "       'Change of Address', 'Construction Permit', 'Subversion of norms',\n",
       "       'License Renewal', 'Labour License Renewal', 'Filing Tax Returns',\n",
       "       'New Connection for Houses', 'Adding Name to Ration Card',\n",
       "       'Land Acquisition', 'Change of Address in Driving License',\n",
       "       'Inspection of Vehicles after Accidents',\n",
       "       'Foreigner Registration and Verification', 'Fitness Certificate',\n",
       "       'Check Post', 'Property Tax Assessment', 'Food Supply',\n",
       "       'Khata Certificate', 'New Borewell connection',\n",
       "       'To prevent shutdown of premises',\n",
       "       'Transfer of Vehicle Registration', 'New Khata Certificate',\n",
       "       'Excise Tax Collection', 'Non Availability Certificate',\n",
       "       'New Labour License and Registration', 'Meter Replacement',\n",
       "       'Services like Movement of Poles and Wires', 'Smartcard License',\n",
       "       'License Plate', 'Arms License', 'Sales Tax Payment',\n",
       "       'Residence certificate', 'Reissue of Passport',\n",
       "       'Power of Attorney Registration', 'Emission Check Certificate',\n",
       "       'Partition of Property', 'Pension Transfer',\n",
       "       'Domicile Certificate', 'Register as Principal Employer',\n",
       "       'IT scrutiny', 'Change of Name in Records',\n",
       "       'Electrical Inspection', 'Transformer Maintenance',\n",
       "       'Building Plan Approval',\n",
       "       'Additional power for High Tension installations',\n",
       "       'Meter Transfer', 'Stamp Duty', 'Application for TDR',\n",
       "       'New Company or Business Registration', 'VAT Registration',\n",
       "       'Tax Clearance Certificate', 'Filing Taxes',\n",
       "       'Renewal of Domestic Driving License', 'Salary Related',\n",
       "       'New International Driving License', 'Proof of Export',\n",
       "       'Leave and License Agreement', 'Salary Withdrawal',\n",
       "       'Change of Name in Birth Certificate', 'Cremation',\n",
       "       'Tenant Verification', 'Vehicle Registration Extract',\n",
       "       'Sales Tax Clearance Certificate', 'Services at Station',\n",
       "       'Updating Passport', 'Changes in RC Book', 'Gas Cylinder Supply',\n",
       "       'Liquor License', 'Post Delivery', 'Subversion of Financial Norms',\n",
       "       'Re registration of Vehicle', 'Road Permit',\n",
       "       'Service Tax Registration', 'Aadhaar or UID Related',\n",
       "       'Excess Luggage', 'Filing Petition',\n",
       "       'Fitness Certificate for Vehicles', 'Patient Care',\n",
       "       'Food Safety Licence',\n",
       "       'Repair of Telephone or Internet Connection',\n",
       "       'Land or Building Survey', 'VAT Certificate', 'PAN Card Issues',\n",
       "       'Medical Reimbursement claim', 'Issue of Ration Card', 'TDS',\n",
       "       'PWD Officers', 'Repair of Water and Sewage Connection',\n",
       "       'Reconnection of Disconnected Installations', 'Meter Installation',\n",
       "       'Road Tax', 'Change of Name in Property Documents', 'TTE',\n",
       "       'Railway Parking', 'Confirmation Report',\n",
       "       'Water Connection under Sajala', 'Billing or Invoice Errors',\n",
       "       'Voter ID Card', 'Change of Address in Registration Certificate',\n",
       "       'Transferring Name for Inherited Property',\n",
       "       'Franking of Sale and Construction Agreement', 'Shop Act License',\n",
       "       'Transport of Goods', 'Change or correction of name in bill',\n",
       "       'Service Tax Return', 'Railway Personnel',\n",
       "       'Cleaning Blocked Sewage Line', 'TIN Application and Number',\n",
       "       'Pharmacy Registration and License', 'SSA Related',\n",
       "       'Original Degree Certificate',\n",
       "       'Verification of property documents', 'Export Inspection',\n",
       "       'Survival Certificate', 'Health Certificate',\n",
       "       'Regular Supply of Water', 'Business License Renewal',\n",
       "       'Lost or Damaged Passport', 'Change of Name in Passport',\n",
       "       'ECNR Stamp', 'Attendance', 'Incorrect Bill', 'Platform ticket',\n",
       "       'Temporary Connection', 'RTI Application',\n",
       "       'Shop Establishment License', 'Motor Vehicle Inspection',\n",
       "       'Duplicate PAN Card', 'Transfer Certificate',\n",
       "       'Sales Tax Registration', 'Inspection of Office or Factories',\n",
       "       'Temporary Vehicle Permit', 'Duplicate Registration Certificate',\n",
       "       'Lease Registration', 'Police Protection', 'Nativity Certificate',\n",
       "       'Transfer PF to New Employer', 'New PAN Card',\n",
       "       'Procuring Medical Equipment/Medicines', 'Medical Treatment',\n",
       "       'New internet connection', 'Unfair Legal Proceedings',\n",
       "       'TIN Number', 'Medical Professional',\n",
       "       'WayBill against Imported Goods', 'Regularising Service',\n",
       "       'Transfer of Ration Card', 'Bill or Arrears or Payment',\n",
       "       'Tatkal Passport', 'Change of Tariff in Commercial to Domestic',\n",
       "       'Allowances', 'Commercial Tax Payment',\n",
       "       'Permission to Open School', 'Enrolment for Aadhaar Card'],\n",
       "      dtype=object)"
      ]
     },
     "execution_count": 19,
     "metadata": {},
     "output_type": "execute_result"
    }
   ],
   "source": [
    "## Exploring the Data\n",
    "df.Department.unique()"
   ]
  },
  {
   "cell_type": "code",
   "execution_count": 20,
   "metadata": {},
   "outputs": [],
   "source": [
    "# As 'Location' Column contain 'City' and 'State' information creating 2 Columns for both\n",
    "df[['City','Province']]=df['Location'].str.split(',',expand=True)"
   ]
  },
  {
   "cell_type": "code",
   "execution_count": 21,
   "metadata": {},
   "outputs": [
    {
     "data": {
      "text/html": [
       "<div>\n",
       "<style scoped>\n",
       "    .dataframe tbody tr th:only-of-type {\n",
       "        vertical-align: middle;\n",
       "    }\n",
       "\n",
       "    .dataframe tbody tr th {\n",
       "        vertical-align: top;\n",
       "    }\n",
       "\n",
       "    .dataframe thead th {\n",
       "        text-align: right;\n",
       "    }\n",
       "</style>\n",
       "<table border=\"1\" class=\"dataframe\">\n",
       "  <thead>\n",
       "    <tr style=\"text-align: right;\">\n",
       "      <th></th>\n",
       "      <th>Title</th>\n",
       "      <th>Date</th>\n",
       "      <th>Location</th>\n",
       "      <th>Department</th>\n",
       "      <th>Views</th>\n",
       "      <th>Amount(INR)</th>\n",
       "      <th>City</th>\n",
       "      <th>Province</th>\n",
       "    </tr>\n",
       "  </thead>\n",
       "  <tbody>\n",
       "    <tr>\n",
       "      <td>0</td>\n",
       "      <td>They said it is registration fee for birth cer...</td>\n",
       "      <td>2020-10-14</td>\n",
       "      <td>Bangalore,Karnataka</td>\n",
       "      <td>Births, Family and Care</td>\n",
       "      <td>1225</td>\n",
       "      <td>400</td>\n",
       "      <td>Bangalore</td>\n",
       "      <td>Karnataka</td>\n",
       "    </tr>\n",
       "    <tr>\n",
       "      <td>1</td>\n",
       "      <td>Paid bribe for not having insurance during pan...</td>\n",
       "      <td>2020-10-13</td>\n",
       "      <td>Bangalore,Karnataka</td>\n",
       "      <td>Vehicle Insurance</td>\n",
       "      <td>1158</td>\n",
       "      <td>350</td>\n",
       "      <td>Bangalore</td>\n",
       "      <td>Karnataka</td>\n",
       "    </tr>\n",
       "    <tr>\n",
       "      <td>2</td>\n",
       "      <td>Forced to pay bribe at KR Puram RTO</td>\n",
       "      <td>2020-10-13</td>\n",
       "      <td>Bangalore,Karnataka</td>\n",
       "      <td>Driving and Transport Business</td>\n",
       "      <td>1249</td>\n",
       "      <td>100</td>\n",
       "      <td>Bangalore</td>\n",
       "      <td>Karnataka</td>\n",
       "    </tr>\n",
       "    <tr>\n",
       "      <td>3</td>\n",
       "      <td>Forced to pay 100 rupees bribe for LL test</td>\n",
       "      <td>2020-10-13</td>\n",
       "      <td>Bangalore,Karnataka</td>\n",
       "      <td>Driving Licenses and Tests</td>\n",
       "      <td>1044</td>\n",
       "      <td>100</td>\n",
       "      <td>Bangalore</td>\n",
       "      <td>Karnataka</td>\n",
       "    </tr>\n",
       "    <tr>\n",
       "      <td>4</td>\n",
       "      <td>Misusing of power and traping people in false ...</td>\n",
       "      <td>2020-10-13</td>\n",
       "      <td>Siwan,Bihar</td>\n",
       "      <td>FIR and Complaints</td>\n",
       "      <td>1068</td>\n",
       "      <td>15000</td>\n",
       "      <td>Siwan</td>\n",
       "      <td>Bihar</td>\n",
       "    </tr>\n",
       "  </tbody>\n",
       "</table>\n",
       "</div>"
      ],
      "text/plain": [
       "                                               Title       Date  \\\n",
       "0  They said it is registration fee for birth cer... 2020-10-14   \n",
       "1  Paid bribe for not having insurance during pan... 2020-10-13   \n",
       "2                Forced to pay bribe at KR Puram RTO 2020-10-13   \n",
       "3         Forced to pay 100 rupees bribe for LL test 2020-10-13   \n",
       "4  Misusing of power and traping people in false ... 2020-10-13   \n",
       "\n",
       "              Location                      Department  Views  Amount(INR)  \\\n",
       "0  Bangalore,Karnataka         Births, Family and Care   1225          400   \n",
       "1  Bangalore,Karnataka               Vehicle Insurance   1158          350   \n",
       "2  Bangalore,Karnataka  Driving and Transport Business   1249          100   \n",
       "3  Bangalore,Karnataka      Driving Licenses and Tests   1044          100   \n",
       "4          Siwan,Bihar              FIR and Complaints   1068        15000   \n",
       "\n",
       "        City   Province  \n",
       "0  Bangalore  Karnataka  \n",
       "1  Bangalore  Karnataka  \n",
       "2  Bangalore  Karnataka  \n",
       "3  Bangalore  Karnataka  \n",
       "4      Siwan      Bihar  "
      ]
     },
     "execution_count": 21,
     "metadata": {},
     "output_type": "execute_result"
    }
   ],
   "source": [
    "df.head()"
   ]
  },
  {
   "cell_type": "code",
   "execution_count": 22,
   "metadata": {},
   "outputs": [
    {
     "data": {
      "image/png": "[encoded data removed]",
      "text/plain": [
       "<Figure size 900x500 with 2 Axes>"
      ]
     },
     "metadata": {
      "needs_background": "light"
     },
     "output_type": "display_data"
    }
   ],
   "source": [
    "# Checking for Correlation\n",
    "sns.heatmap(df.corr(),annot=True);"
   ]
  },
  {
   "cell_type": "markdown",
   "metadata": {},
   "source": [
    "### From Given Data we can answer some questions as well "
   ]
  },
  {
   "cell_type": "markdown",
   "metadata": {},
   "source": [
    "#### 1. Name of the Cities where most Bribe were paid ?"
   ]
  },
  {
   "cell_type": "code",
   "execution_count": 23,
   "metadata": {},
   "outputs": [],
   "source": [
    "most_bribe_city=df.groupby(['City'])['Amount(INR)'].agg(['count','sum']).sort_values(by='count',ascending=False).head(10)"
   ]
  },
  {
   "cell_type": "code",
   "execution_count": 24,
   "metadata": {},
   "outputs": [
    {
     "data": {
      "text/html": [
       "<div>\n",
       "<style scoped>\n",
       "    .dataframe tbody tr th:only-of-type {\n",
       "        vertical-align: middle;\n",
       "    }\n",
       "\n",
       "    .dataframe tbody tr th {\n",
       "        vertical-align: top;\n",
       "    }\n",
       "\n",
       "    .dataframe thead th {\n",
       "        text-align: right;\n",
       "    }\n",
       "</style>\n",
       "<table border=\"1\" class=\"dataframe\">\n",
       "  <thead>\n",
       "    <tr style=\"text-align: right;\">\n",
       "      <th></th>\n",
       "      <th>count</th>\n",
       "      <th>sum</th>\n",
       "    </tr>\n",
       "    <tr>\n",
       "      <th>City</th>\n",
       "      <th></th>\n",
       "      <th></th>\n",
       "    </tr>\n",
       "  </thead>\n",
       "  <tbody>\n",
       "    <tr>\n",
       "      <td>Bangalore</td>\n",
       "      <td>720</td>\n",
       "      <td>3659321</td>\n",
       "    </tr>\n",
       "    <tr>\n",
       "      <td>NewDelhi</td>\n",
       "      <td>210</td>\n",
       "      <td>626320</td>\n",
       "    </tr>\n",
       "    <tr>\n",
       "      <td>Chennai</td>\n",
       "      <td>142</td>\n",
       "      <td>664328</td>\n",
       "    </tr>\n",
       "    <tr>\n",
       "      <td>Pune</td>\n",
       "      <td>117</td>\n",
       "      <td>299812</td>\n",
       "    </tr>\n",
       "    <tr>\n",
       "      <td>Mumbai</td>\n",
       "      <td>101</td>\n",
       "      <td>512496</td>\n",
       "    </tr>\n",
       "    <tr>\n",
       "      <td>Hyderabad</td>\n",
       "      <td>85</td>\n",
       "      <td>400545</td>\n",
       "    </tr>\n",
       "    <tr>\n",
       "      <td>Adari</td>\n",
       "      <td>60</td>\n",
       "      <td>136136</td>\n",
       "    </tr>\n",
       "    <tr>\n",
       "      <td>Abhayapuri</td>\n",
       "      <td>47</td>\n",
       "      <td>56358</td>\n",
       "    </tr>\n",
       "    <tr>\n",
       "      <td>Achhnera</td>\n",
       "      <td>45</td>\n",
       "      <td>72771</td>\n",
       "    </tr>\n",
       "    <tr>\n",
       "      <td>Abohar</td>\n",
       "      <td>43</td>\n",
       "      <td>100575</td>\n",
       "    </tr>\n",
       "  </tbody>\n",
       "</table>\n",
       "</div>"
      ],
      "text/plain": [
       "            count      sum\n",
       "City                      \n",
       "Bangalore     720  3659321\n",
       "NewDelhi      210   626320\n",
       "Chennai       142   664328\n",
       "Pune          117   299812\n",
       "Mumbai        101   512496\n",
       "Hyderabad      85   400545\n",
       "Adari          60   136136\n",
       "Abhayapuri     47    56358\n",
       "Achhnera       45    72771\n",
       "Abohar         43   100575"
      ]
     },
     "execution_count": 24,
     "metadata": {},
     "output_type": "execute_result"
    }
   ],
   "source": [
    "most_bribe_city"
   ]
  },
  {
   "cell_type": "code",
   "execution_count": 25,
   "metadata": {},
   "outputs": [
    {
     "data": {
      "image/png": "[encoded data removed]",
      "text/plain": [
       "<Figure size 900x500 with 1 Axes>"
      ]
     },
     "metadata": {
      "needs_background": "light"
     },
     "output_type": "display_data"
    }
   ],
   "source": [
    "sns.barplot(y=most_bribe_city.index,x=most_bribe_city['count'])\n",
    "plt.xlabel('Count')\n",
    "plt.ylabel(\"Cities\")\n",
    "plt.title('Most Bribe Taking City');"
   ]
  },
  {
   "cell_type": "markdown",
   "metadata": {},
   "source": [
    "#### 2. Name of States which given most  Bribe ?"
   ]
  },
  {
   "cell_type": "code",
   "execution_count": 26,
   "metadata": {},
   "outputs": [
    {
     "data": {
      "image/png": "[encoded data removed]",
      "text/plain": [
       "<Figure size 900x500 with 1 Axes>"
      ]
     },
     "metadata": {
      "needs_background": "light"
     },
     "output_type": "display_data"
    }
   ],
   "source": [
    "most_bribe_state=df.groupby(['Province'])['Amount(INR)'].agg(['count','sum']).sort_values(by='count',ascending=False).head(10)\n",
    "sns.barplot(y=most_bribe_state.index,x=most_bribe_state['count']);"
   ]
  },
  {
   "cell_type": "markdown",
   "metadata": {},
   "source": [
    "#### 3.Name of the Department geting paid most of the bribe ?"
   ]
  },
  {
   "cell_type": "code",
   "execution_count": 27,
   "metadata": {},
   "outputs": [
    {
     "data": {
      "image/png": "[encoded data removed]",
      "text/plain": [
       "<Figure size 900x500 with 1 Axes>"
      ]
     },
     "metadata": {
      "needs_background": "light"
     },
     "output_type": "display_data"
    }
   ],
   "source": [
    "depart_freq=df.groupby('Department')['Amount(INR)'].agg(['count','sum']).sort_values(by='count',ascending=False).head(10)\n",
    "sns.barplot(y=depart_freq.index,x=depart_freq['count']);"
   ]
  },
  {
   "cell_type": "code",
   "execution_count": 28,
   "metadata": {},
   "outputs": [],
   "source": [
    "## By Visualization one can say \"Police Verification\" tops the list but Traffic is higher because if you. \n",
    "## Notice there are two bars of traffic."
   ]
  },
  {
   "cell_type": "markdown",
   "metadata": {},
   "source": [
    "#### 4. Departments which takes most bribe on average and overall."
   ]
  },
  {
   "cell_type": "code",
   "execution_count": 29,
   "metadata": {},
   "outputs": [
    {
     "data": {
      "text/html": [
       "<div>\n",
       "<style scoped>\n",
       "    .dataframe tbody tr th:only-of-type {\n",
       "        vertical-align: middle;\n",
       "    }\n",
       "\n",
       "    .dataframe tbody tr th {\n",
       "        vertical-align: top;\n",
       "    }\n",
       "\n",
       "    .dataframe thead th {\n",
       "        text-align: right;\n",
       "    }\n",
       "</style>\n",
       "<table border=\"1\" class=\"dataframe\">\n",
       "  <thead>\n",
       "    <tr style=\"text-align: right;\">\n",
       "      <th></th>\n",
       "      <th>mean</th>\n",
       "      <th>sum</th>\n",
       "    </tr>\n",
       "    <tr>\n",
       "      <th>Department</th>\n",
       "      <th></th>\n",
       "      <th></th>\n",
       "    </tr>\n",
       "  </thead>\n",
       "  <tbody>\n",
       "    <tr>\n",
       "      <td>Others</td>\n",
       "      <td>3747.259958</td>\n",
       "      <td>1787443</td>\n",
       "    </tr>\n",
       "    <tr>\n",
       "      <td>Registration of Property</td>\n",
       "      <td>15880.000000</td>\n",
       "      <td>714600</td>\n",
       "    </tr>\n",
       "    <tr>\n",
       "      <td>Registration of Flat or Apartment</td>\n",
       "      <td>13812.500000</td>\n",
       "      <td>331500</td>\n",
       "    </tr>\n",
       "    <tr>\n",
       "      <td>Property Registration</td>\n",
       "      <td>14147.826087</td>\n",
       "      <td>325400</td>\n",
       "    </tr>\n",
       "    <tr>\n",
       "      <td>Police Harassment</td>\n",
       "      <td>4760.576923</td>\n",
       "      <td>247550</td>\n",
       "    </tr>\n",
       "    <tr>\n",
       "      <td>Police Verification for Passport</td>\n",
       "      <td>919.799242</td>\n",
       "      <td>242827</td>\n",
       "    </tr>\n",
       "    <tr>\n",
       "      <td>Birth Certificate</td>\n",
       "      <td>1612.583333</td>\n",
       "      <td>232212</td>\n",
       "    </tr>\n",
       "    <tr>\n",
       "      <td>Land Registration</td>\n",
       "      <td>9664.347826</td>\n",
       "      <td>222280</td>\n",
       "    </tr>\n",
       "    <tr>\n",
       "      <td>FIR and Complaints</td>\n",
       "      <td>6302.941176</td>\n",
       "      <td>214300</td>\n",
       "    </tr>\n",
       "    <tr>\n",
       "      <td>Building and Housing</td>\n",
       "      <td>14928.571429</td>\n",
       "      <td>209000</td>\n",
       "    </tr>\n",
       "  </tbody>\n",
       "</table>\n",
       "</div>"
      ],
      "text/plain": [
       "                                           mean      sum\n",
       "Department                                              \n",
       "Others                              3747.259958  1787443\n",
       "Registration of Property           15880.000000   714600\n",
       "Registration of Flat or Apartment  13812.500000   331500\n",
       "Property Registration              14147.826087   325400\n",
       "Police Harassment                   4760.576923   247550\n",
       "Police Verification for Passport     919.799242   242827\n",
       "Birth Certificate                   1612.583333   232212\n",
       "Land Registration                   9664.347826   222280\n",
       "FIR and Complaints                  6302.941176   214300\n",
       "Building and Housing               14928.571429   209000"
      ]
     },
     "execution_count": 29,
     "metadata": {},
     "output_type": "execute_result"
    }
   ],
   "source": [
    "depart_sum=df.groupby('Department')['Amount(INR)'].agg(['mean','sum']).sort_values(by='sum',ascending=False).head(10)\n",
    "depart_sum"
   ]
  },
  {
   "cell_type": "markdown",
   "metadata": {},
   "source": [
    "#### 4. Departments which takes most bribe on average and overall."
   ]
  },
  {
   "cell_type": "code",
   "execution_count": 30,
   "metadata": {},
   "outputs": [
    {
     "data": {
      "image/png": "[encoded data removed]",
      "text/plain": [
       "<Figure size 900x500 with 1 Axes>"
      ]
     },
     "metadata": {
      "needs_background": "light"
     },
     "output_type": "display_data"
    }
   ],
   "source": [
    "sns.barplot(y=depart_sum.index,x=depart_sum['sum']);"
   ]
  },
  {
   "cell_type": "markdown",
   "metadata": {},
   "source": [
    "#### Applying TIME SERIES ANALYSIS "
   ]
  },
  {
   "cell_type": "code",
   "execution_count": 31,
   "metadata": {},
   "outputs": [
    {
     "data": {
      "text/html": [
       "<div>\n",
       "<style scoped>\n",
       "    .dataframe tbody tr th:only-of-type {\n",
       "        vertical-align: middle;\n",
       "    }\n",
       "\n",
       "    .dataframe tbody tr th {\n",
       "        vertical-align: top;\n",
       "    }\n",
       "\n",
       "    .dataframe thead th {\n",
       "        text-align: right;\n",
       "    }\n",
       "</style>\n",
       "<table border=\"1\" class=\"dataframe\">\n",
       "  <thead>\n",
       "    <tr style=\"text-align: right;\">\n",
       "      <th></th>\n",
       "      <th>Amount(INR)</th>\n",
       "      <th>Date</th>\n",
       "    </tr>\n",
       "  </thead>\n",
       "  <tbody>\n",
       "    <tr>\n",
       "      <td>0</td>\n",
       "      <td>400</td>\n",
       "      <td>2020-10-14</td>\n",
       "    </tr>\n",
       "    <tr>\n",
       "      <td>1</td>\n",
       "      <td>350</td>\n",
       "      <td>2020-10-13</td>\n",
       "    </tr>\n",
       "    <tr>\n",
       "      <td>2</td>\n",
       "      <td>100</td>\n",
       "      <td>2020-10-13</td>\n",
       "    </tr>\n",
       "    <tr>\n",
       "      <td>3</td>\n",
       "      <td>100</td>\n",
       "      <td>2020-10-13</td>\n",
       "    </tr>\n",
       "    <tr>\n",
       "      <td>4</td>\n",
       "      <td>15000</td>\n",
       "      <td>2020-10-13</td>\n",
       "    </tr>\n",
       "  </tbody>\n",
       "</table>\n",
       "</div>"
      ],
      "text/plain": [
       "   Amount(INR)       Date\n",
       "0          400 2020-10-14\n",
       "1          350 2020-10-13\n",
       "2          100 2020-10-13\n",
       "3          100 2020-10-13\n",
       "4        15000 2020-10-13"
      ]
     },
     "execution_count": 31,
     "metadata": {},
     "output_type": "execute_result"
    }
   ],
   "source": [
    "df_day=df[[\"Amount(INR)\",'Date']].copy()\n",
    "df_day.head()"
   ]
  },
  {
   "cell_type": "code",
   "execution_count": 32,
   "metadata": {},
   "outputs": [],
   "source": [
    "## Converting the data in format of DAY , WEEK and YEAR for deeper analysis \n",
    "\n",
    "\n",
    "df_day[\"Days of month\"]=df[\"Date\"].dt.day\n",
    "df_day[\"Week_of_year\"]=df[\"Date\"].dt.week\n",
    "df_day[\"Year\"]=df[\"Date\"].dt.year\n",
    "df_day[\"Month\"]=df[\"Date\"].dt.month\n",
    "df_day['Day_of_week']=df['Date'].dt.dayofweek"
   ]
  },
  {
   "cell_type": "code",
   "execution_count": 33,
   "metadata": {},
   "outputs": [
    {
     "data": {
      "text/html": [
       "<div>\n",
       "<style scoped>\n",
       "    .dataframe tbody tr th:only-of-type {\n",
       "        vertical-align: middle;\n",
       "    }\n",
       "\n",
       "    .dataframe tbody tr th {\n",
       "        vertical-align: top;\n",
       "    }\n",
       "\n",
       "    .dataframe thead th {\n",
       "        text-align: right;\n",
       "    }\n",
       "</style>\n",
       "<table border=\"1\" class=\"dataframe\">\n",
       "  <thead>\n",
       "    <tr style=\"text-align: right;\">\n",
       "      <th></th>\n",
       "      <th>Amount(INR)</th>\n",
       "      <th>Date</th>\n",
       "      <th>Days of month</th>\n",
       "      <th>Week_of_year</th>\n",
       "      <th>Year</th>\n",
       "      <th>Month</th>\n",
       "      <th>Day_of_week</th>\n",
       "    </tr>\n",
       "  </thead>\n",
       "  <tbody>\n",
       "    <tr>\n",
       "      <td>0</td>\n",
       "      <td>400</td>\n",
       "      <td>2020-10-14</td>\n",
       "      <td>14</td>\n",
       "      <td>42</td>\n",
       "      <td>2020</td>\n",
       "      <td>10</td>\n",
       "      <td>2</td>\n",
       "    </tr>\n",
       "    <tr>\n",
       "      <td>1</td>\n",
       "      <td>350</td>\n",
       "      <td>2020-10-13</td>\n",
       "      <td>13</td>\n",
       "      <td>42</td>\n",
       "      <td>2020</td>\n",
       "      <td>10</td>\n",
       "      <td>1</td>\n",
       "    </tr>\n",
       "    <tr>\n",
       "      <td>2</td>\n",
       "      <td>100</td>\n",
       "      <td>2020-10-13</td>\n",
       "      <td>13</td>\n",
       "      <td>42</td>\n",
       "      <td>2020</td>\n",
       "      <td>10</td>\n",
       "      <td>1</td>\n",
       "    </tr>\n",
       "    <tr>\n",
       "      <td>3</td>\n",
       "      <td>100</td>\n",
       "      <td>2020-10-13</td>\n",
       "      <td>13</td>\n",
       "      <td>42</td>\n",
       "      <td>2020</td>\n",
       "      <td>10</td>\n",
       "      <td>1</td>\n",
       "    </tr>\n",
       "    <tr>\n",
       "      <td>4</td>\n",
       "      <td>15000</td>\n",
       "      <td>2020-10-13</td>\n",
       "      <td>13</td>\n",
       "      <td>42</td>\n",
       "      <td>2020</td>\n",
       "      <td>10</td>\n",
       "      <td>1</td>\n",
       "    </tr>\n",
       "    <tr>\n",
       "      <td>...</td>\n",
       "      <td>...</td>\n",
       "      <td>...</td>\n",
       "      <td>...</td>\n",
       "      <td>...</td>\n",
       "      <td>...</td>\n",
       "      <td>...</td>\n",
       "      <td>...</td>\n",
       "    </tr>\n",
       "    <tr>\n",
       "      <td>3468</td>\n",
       "      <td>33</td>\n",
       "      <td>2015-10-30</td>\n",
       "      <td>30</td>\n",
       "      <td>44</td>\n",
       "      <td>2015</td>\n",
       "      <td>10</td>\n",
       "      <td>4</td>\n",
       "    </tr>\n",
       "    <tr>\n",
       "      <td>3469</td>\n",
       "      <td>10</td>\n",
       "      <td>2015-10-30</td>\n",
       "      <td>30</td>\n",
       "      <td>44</td>\n",
       "      <td>2015</td>\n",
       "      <td>10</td>\n",
       "      <td>4</td>\n",
       "    </tr>\n",
       "    <tr>\n",
       "      <td>3470</td>\n",
       "      <td>500</td>\n",
       "      <td>2015-10-30</td>\n",
       "      <td>30</td>\n",
       "      <td>44</td>\n",
       "      <td>2015</td>\n",
       "      <td>10</td>\n",
       "      <td>4</td>\n",
       "    </tr>\n",
       "    <tr>\n",
       "      <td>3471</td>\n",
       "      <td>800</td>\n",
       "      <td>2015-10-30</td>\n",
       "      <td>30</td>\n",
       "      <td>44</td>\n",
       "      <td>2015</td>\n",
       "      <td>10</td>\n",
       "      <td>4</td>\n",
       "    </tr>\n",
       "    <tr>\n",
       "      <td>3472</td>\n",
       "      <td>16000</td>\n",
       "      <td>2015-10-29</td>\n",
       "      <td>29</td>\n",
       "      <td>44</td>\n",
       "      <td>2015</td>\n",
       "      <td>10</td>\n",
       "      <td>3</td>\n",
       "    </tr>\n",
       "  </tbody>\n",
       "</table>\n",
       "<p>3125 rows × 7 columns</p>\n",
       "</div>"
      ],
      "text/plain": [
       "      Amount(INR)       Date  Days of month  Week_of_year  Year  Month  \\\n",
       "0             400 2020-10-14             14            42  2020     10   \n",
       "1             350 2020-10-13             13            42  2020     10   \n",
       "2             100 2020-10-13             13            42  2020     10   \n",
       "3             100 2020-10-13             13            42  2020     10   \n",
       "4           15000 2020-10-13             13            42  2020     10   \n",
       "...           ...        ...            ...           ...   ...    ...   \n",
       "3468           33 2015-10-30             30            44  2015     10   \n",
       "3469           10 2015-10-30             30            44  2015     10   \n",
       "3470          500 2015-10-30             30            44  2015     10   \n",
       "3471          800 2015-10-30             30            44  2015     10   \n",
       "3472        16000 2015-10-29             29            44  2015     10   \n",
       "\n",
       "      Day_of_week  \n",
       "0               2  \n",
       "1               1  \n",
       "2               1  \n",
       "3               1  \n",
       "4               1  \n",
       "...           ...  \n",
       "3468            4  \n",
       "3469            4  \n",
       "3470            4  \n",
       "3471            4  \n",
       "3472            3  \n",
       "\n",
       "[3125 rows x 7 columns]"
      ]
     },
     "execution_count": 33,
     "metadata": {},
     "output_type": "execute_result"
    }
   ],
   "source": [
    "df_day"
   ]
  },
  {
   "cell_type": "markdown",
   "metadata": {},
   "source": [
    "#### 5. Check which was the Day of month where bribe paid was maximum "
   ]
  },
  {
   "cell_type": "code",
   "execution_count": 34,
   "metadata": {},
   "outputs": [
    {
     "data": {
      "image/png": "[encoded data removed]",
      "text/plain": [
       "<Figure size 900x500 with 1 Axes>"
      ]
     },
     "metadata": {
      "needs_background": "light"
     },
     "output_type": "display_data"
    }
   ],
   "source": [
    "sns.histplot(data=df_day[\"Days of month\"],bins=31)\n",
    "plt.ylabel(\"Number of bribe taken\")\n",
    "plt.title(\"Days of the Month\");"
   ]
  },
  {
   "cell_type": "markdown",
   "metadata": {},
   "source": [
    "#### 6. What was the amount of Bribe paid by Year ?"
   ]
  },
  {
   "cell_type": "code",
   "execution_count": 35,
   "metadata": {},
   "outputs": [
    {
     "data": {
      "image/png": "[encoded data removed]",
      "text/plain": [
       "<Figure size 900x500 with 1 Axes>"
      ]
     },
     "metadata": {
      "needs_background": "light"
     },
     "output_type": "display_data"
    }
   ],
   "source": [
    "sns.histplot(data=df_day[\"Year\"])\n",
    "plt.ylabel(\"Number of bribes taken\")\n",
    "plt.title(\"Years\");"
   ]
  },
  {
   "cell_type": "markdown",
   "metadata": {},
   "source": [
    "#### 7.What was the amount of Bribe paid by Month ?"
   ]
  },
  {
   "cell_type": "code",
   "execution_count": 36,
   "metadata": {},
   "outputs": [
    {
     "data": {
      "image/png": "[encoded data removed]",
      "text/plain": [
       "<Figure size 900x500 with 1 Axes>"
      ]
     },
     "metadata": {
      "needs_background": "light"
     },
     "output_type": "display_data"
    }
   ],
   "source": [
    "sns.histplot(data=df_day[\"Month\"],bins=12)\n",
    "plt.ylabel(\"Number of bribes taken\")\n",
    "plt.title(\"Bribes paid per month\");"
   ]
  },
  {
   "cell_type": "markdown",
   "metadata": {},
   "source": [
    "#### 8.Which was the day of the week where bribe taken was Lowest ?"
   ]
  },
  {
   "cell_type": "code",
   "execution_count": 37,
   "metadata": {},
   "outputs": [
    {
     "data": {
      "image/png": "[encoded data removed]",
      "text/plain": [
       "<Figure size 900x500 with 1 Axes>"
      ]
     },
     "metadata": {
      "needs_background": "light"
     },
     "output_type": "display_data"
    }
   ],
   "source": [
    "sns.histplot(data=df_day[\"Day_of_week\"],bins=7)\n",
    "plt.ylabel(\"Number of bribes taken\")\n",
    "plt.title(\"Days of the WEEK\")\n",
    "plt.xticks([0, 1, 2,3,4,5,6], ['Monday','Tuesday','Wednesday','Thursday','Friday','Saturday','Sunday'],rotation=90);"
   ]
  },
  {
   "cell_type": "markdown",
   "metadata": {},
   "source": [
    "### One of the funfact is that on SUNDAY the amount of bribe paid is less."
   ]
  },
  {
   "cell_type": "code",
   "execution_count": null,
   "metadata": {},
   "outputs": [],
   "source": []
  },
  {
   "cell_type": "markdown",
   "metadata": {},
   "source": [
    "## Conclusion for the data:\n",
    "    \n",
    "### 1. Banglore ranks first were highest numbers of bribes are paid.\n",
    "\n",
    "### 2. The State Karnataka is where Bribes are paid are maximum.\n",
    "\n",
    "### 3. The Traffic Department gets has the highest bribes taking count.\n",
    "\n",
    "### 4. Lowest number of Bribe taken on the week day is Sunday.\n",
    "\n",
    "### 5. 2016 and 2019 where the years where most number of bribe taking cases where registered."
   ]
  },
  {
   "cell_type": "code",
   "execution_count": null,
   "metadata": {},
   "outputs": [],
   "source": []
  },
  {
   "cell_type": "code",
   "execution_count": null,
   "metadata": {},
   "outputs": [],
   "source": []
  },
  {
   "cell_type": "code",
   "execution_count": null,
   "metadata": {},
   "outputs": [],
   "source": []
  },
  {
   "cell_type": "code",
   "execution_count": null,
   "metadata": {},
   "outputs": [],
   "source": []
  },
  {
   "cell_type": "code",
   "execution_count": null,
   "metadata": {},
   "outputs": [],
   "source": []
  }
 ],
 "metadata": {
  "kernelspec": {
   "display_name": "Python 3",
   "language": "python",
   "name": "python3"
  },
  "language_info": {
   "codemirror_mode": {
    "name": "ipython",
    "version": 3
   },
   "file_extension": ".py",
   "mimetype": "text/x-python",
   "name": "python",
   "nbconvert_exporter": "python",
   "pygments_lexer": "ipython3",
   "version": "3.7.4"
  }
 },
 "nbformat": 4,
 "nbformat_minor": 2
}
